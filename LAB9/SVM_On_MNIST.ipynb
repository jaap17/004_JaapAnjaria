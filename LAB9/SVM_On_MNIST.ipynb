{
  "nbformat": 4,
  "nbformat_minor": 0,
  "metadata": {
    "colab": {
      "name": "SVM_On_MNIST.ipynb",
      "provenance": []
    },
    "kernelspec": {
      "name": "python3",
      "display_name": "Python 3"
    },
    "language_info": {
      "name": "python"
    }
  },
  "cells": [
    {
      "cell_type": "code",
      "metadata": {
        "id": "r06ysOUOevvU"
      },
      "source": [
        "import numpy as np\n",
        "import matplotlib.pyplot as plt\n",
        "from sklearn.svm import SVC\n",
        "from sklearn.model_selection import train_test_split"
      ],
      "execution_count": 1,
      "outputs": []
    },
    {
      "cell_type": "code",
      "metadata": {
        "colab": {
          "base_uri": "https://localhost:8080/"
        },
        "id": "p5sWTWxLe9Gj",
        "outputId": "7f2a92e9-77ad-4804-a03e-17dc354c368b"
      },
      "source": [
        "# Load MNIST Dataset\n",
        "from tensorflow.keras.datasets import mnist\n",
        "(X_train, y_train), (X_test, y_test) = mnist.load_data()"
      ],
      "execution_count": 2,
      "outputs": [
        {
          "output_type": "stream",
          "name": "stdout",
          "text": [
            "Downloading data from https://storage.googleapis.com/tensorflow/tf-keras-datasets/mnist.npz\n",
            "11493376/11490434 [==============================] - 0s 0us/step\n",
            "11501568/11490434 [==============================] - 0s 0us/step\n"
          ]
        }
      ]
    },
    {
      "cell_type": "code",
      "metadata": {
        "colab": {
          "base_uri": "https://localhost:8080/"
        },
        "id": "eIG4rQ9Oe_RM",
        "outputId": "9bed46b3-c356-47ed-b103-7fcc4954558c"
      },
      "source": [
        "# print the features\n",
        "print(X_train[:2])\n",
        "# print the labels\n",
        "print(y_train[:2])"
      ],
      "execution_count": 3,
      "outputs": [
        {
          "output_type": "stream",
          "name": "stdout",
          "text": [
            "[[[0 0 0 ... 0 0 0]\n",
            "  [0 0 0 ... 0 0 0]\n",
            "  [0 0 0 ... 0 0 0]\n",
            "  ...\n",
            "  [0 0 0 ... 0 0 0]\n",
            "  [0 0 0 ... 0 0 0]\n",
            "  [0 0 0 ... 0 0 0]]\n",
            "\n",
            " [[0 0 0 ... 0 0 0]\n",
            "  [0 0 0 ... 0 0 0]\n",
            "  [0 0 0 ... 0 0 0]\n",
            "  ...\n",
            "  [0 0 0 ... 0 0 0]\n",
            "  [0 0 0 ... 0 0 0]\n",
            "  [0 0 0 ... 0 0 0]]]\n",
            "[5 0]\n"
          ]
        }
      ]
    },
    {
      "cell_type": "code",
      "metadata": {
        "colab": {
          "base_uri": "https://localhost:8080/"
        },
        "id": "Wws6cn0pfC_b",
        "outputId": "3c297575-c2bb-43b3-ede1-f4d78baf1fbf"
      },
      "source": [
        "# Size of training and testing\n",
        "print('X_train : ', X_train.data.shape)\n",
        "print('y_train : ', y_train.data.shape)\n",
        "print('X_test : ', X_test.data.shape)\n",
        "print('y_test : ', y_test.data.shape)"
      ],
      "execution_count": 4,
      "outputs": [
        {
          "output_type": "stream",
          "name": "stdout",
          "text": [
            "X_train :  (60000, 28, 28)\n",
            "y_train :  (60000,)\n",
            "X_test :  (10000, 28, 28)\n",
            "y_test :  (10000,)\n"
          ]
        }
      ]
    },
    {
      "cell_type": "code",
      "metadata": {
        "id": "bdh9NTepfIS6"
      },
      "source": [
        "# Working with sample_size as the dataset is large\n",
        "# Considering 10000 images and giving 8000 images to training and 2000 images to testing\n",
        "train_sample_size = 8000\n",
        "test_sample_size = 2000\n",
        "\n",
        "X_train = X_train[:train_sample_size]\n",
        "y_train = y_train[:train_sample_size]\n",
        "X_test = X_test[:test_sample_size]\n",
        "y_test = y_test[:test_sample_size]"
      ],
      "execution_count": 5,
      "outputs": []
    },
    {
      "cell_type": "code",
      "metadata": {
        "colab": {
          "base_uri": "https://localhost:8080/"
        },
        "id": "zovzY0RjfXRx",
        "outputId": "864c8e68-741a-41c6-a11f-5387ece37549"
      },
      "source": [
        "print('X_train : ', X_train.data.shape)\n",
        "print('y_train : ', y_train.data.shape)\n",
        "print('X_test : ', X_test.data.shape)\n",
        "print('y_test : ', y_test.data.shape)"
      ],
      "execution_count": 6,
      "outputs": [
        {
          "output_type": "stream",
          "name": "stdout",
          "text": [
            "X_train :  (8000, 28, 28)\n",
            "y_train :  (8000,)\n",
            "X_test :  (2000, 28, 28)\n",
            "y_test :  (2000,)\n"
          ]
        }
      ]
    },
    {
      "cell_type": "code",
      "metadata": {
        "id": "xz5e3WKYfbYp"
      },
      "source": [
        "# fit needs 2D array for training \n",
        "# So reshaping the numpy array from (sample_size, 28, 28) to (sample_size, 784)\n",
        "\n",
        "samples, x, y = X_train.shape\n",
        "X_train = X_train.reshape((samples, x*y))\n",
        "\n",
        "samples, x, y = X_test.shape\n",
        "X_test = X_test.reshape((samples, x*y))"
      ],
      "execution_count": 7,
      "outputs": []
    },
    {
      "cell_type": "code",
      "metadata": {
        "id": "9UrPmiFmff8q"
      },
      "source": [
        "#linear kernel\n",
        "linearModel = SVC(kernel='linear')"
      ],
      "execution_count": 8,
      "outputs": []
    },
    {
      "cell_type": "code",
      "metadata": {
        "colab": {
          "base_uri": "https://localhost:8080/"
        },
        "id": "WsW7dHLkfrST",
        "outputId": "0b83ac1d-96c3-422d-ca80-7a39b3644ee4"
      },
      "source": [
        "# fit needs 2D array for training \n",
        "linearModel.fit(X_train, y_train)\n",
        "# Model analysis\n",
        "print('Linear kernel score : ', linearModel.score(X_test, y_test))"
      ],
      "execution_count": 14,
      "outputs": [
        {
          "output_type": "stream",
          "name": "stdout",
          "text": [
            "Linear kernel score :  0.887\n"
          ]
        }
      ]
    },
    {
      "cell_type": "code",
      "metadata": {
        "id": "Un2amQtnfvoI"
      },
      "source": [
        "#polynomial kernel\n",
        "# Create a model with polynomial kernel\n",
        "polynomialModel = SVC(kernel='poly')"
      ],
      "execution_count": 10,
      "outputs": []
    },
    {
      "cell_type": "code",
      "metadata": {
        "colab": {
          "base_uri": "https://localhost:8080/"
        },
        "id": "5Z-KCzd5f1ft",
        "outputId": "9127f4c3-745e-4f9a-fb79-8a1422c792a2"
      },
      "source": [
        "# fit needs 2D array for training \n",
        "polynomialModel.fit(X_train, y_train)"
      ],
      "execution_count": 11,
      "outputs": [
        {
          "output_type": "execute_result",
          "data": {
            "text/plain": [
              "SVC(C=1.0, break_ties=False, cache_size=200, class_weight=None, coef0=0.0,\n",
              "    decision_function_shape='ovr', degree=3, gamma='scale', kernel='poly',\n",
              "    max_iter=-1, probability=False, random_state=None, shrinking=True,\n",
              "    tol=0.001, verbose=False)"
            ]
          },
          "metadata": {},
          "execution_count": 11
        }
      ]
    },
    {
      "cell_type": "code",
      "metadata": {
        "id": "kWQ33z2jf34k"
      },
      "source": [
        "# Create a model with rbf kernel\n",
        "rbfModel = SVC(kernel='rbf')"
      ],
      "execution_count": 12,
      "outputs": []
    },
    {
      "cell_type": "code",
      "metadata": {
        "colab": {
          "base_uri": "https://localhost:8080/"
        },
        "id": "qwRMq61Cf-9m",
        "outputId": "ff302f63-c7a6-441a-c933-4a321d55d76f"
      },
      "source": [
        "# fit needs 2D array for training \n",
        "rbfModel.fit(X_train, y_train)"
      ],
      "execution_count": 13,
      "outputs": [
        {
          "output_type": "execute_result",
          "data": {
            "text/plain": [
              "SVC(C=1.0, break_ties=False, cache_size=200, class_weight=None, coef0=0.0,\n",
              "    decision_function_shape='ovr', degree=3, gamma='scale', kernel='rbf',\n",
              "    max_iter=-1, probability=False, random_state=None, shrinking=True,\n",
              "    tol=0.001, verbose=False)"
            ]
          },
          "metadata": {},
          "execution_count": 13
        }
      ]
    },
    {
      "cell_type": "code",
      "metadata": {
        "id": "1yyHMu40gCCo"
      },
      "source": [
        ""
      ],
      "execution_count": null,
      "outputs": []
    }
  ]
}