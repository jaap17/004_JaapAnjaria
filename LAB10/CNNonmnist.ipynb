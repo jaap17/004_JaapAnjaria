{
 "cells": [
  {
   "cell_type": "code",
   "execution_count": 1,
   "id": "4a550a98",
   "metadata": {},
   "outputs": [
    {
     "name": "stderr",
     "output_type": "stream",
     "text": [
      "2021-09-30 19:00:53.856382: W tensorflow/stream_executor/platform/default/dso_loader.cc:64] Could not load dynamic library 'libcudart.so.11.0'; dlerror: libcudart.so.11.0: cannot open shared object file: No such file or directory\n",
      "2021-09-30 19:00:53.856407: I tensorflow/stream_executor/cuda/cudart_stub.cc:29] Ignore above cudart dlerror if you do not have a GPU set up on your machine.\n"
     ]
    }
   ],
   "source": [
    "# importing the libraries\n",
    "import numpy as np\n",
    "import keras\n",
    "import tensorflow as tf\n",
    "from keras.datasets import mnist\n",
    "from keras.utils import np_utils\n",
    "from keras.models import Model\n",
    "from keras.layers import Dense, Input\n",
    "from keras.layers import Conv2D, MaxPooling2D, Dropout, Flatten\n",
    "from keras import backend as k\n"
   ]
  },
  {
   "cell_type": "code",
   "execution_count": 2,
   "id": "21d56566",
   "metadata": {},
   "outputs": [],
   "source": [
    "#loading the mnist dataset and preparing the training and testing dataset\n",
    "(x_train, y_train), (x_test, y_test) = mnist.load_data()"
   ]
  },
  {
   "cell_type": "code",
   "execution_count": 3,
   "id": "be90c580",
   "metadata": {},
   "outputs": [],
   "source": [
    "#nno of rows and columns declaration\n",
    "img_rows, img_cols=28, 28\n",
    " \n",
    "if k.image_data_format() == 'channels_first':\n",
    "   x_train = x_train.reshape(x_train.shape[0], 1, img_rows, img_cols)\n",
    "   x_test = x_test.reshape(x_test.shape[0], 1, img_rows, img_cols)\n",
    "   inpx = (1, img_rows, img_cols)\n",
    " \n",
    "else:\n",
    "   x_train = x_train.reshape(x_train.shape[0], img_rows, img_cols, 1)\n",
    "   x_test = x_test.reshape(x_test.shape[0], img_rows, img_cols, 1)\n",
    "   inpx = (img_rows, img_cols, 1)\n",
    " \n",
    "x_train = x_train.astype('float32')\n",
    "x_test = x_test.astype('float32')\n",
    "\n",
    "#normalizing training data and test data\n",
    "x_train /= 255\n",
    "x_test /= 255"
   ]
  },
  {
   "cell_type": "code",
   "execution_count": 4,
   "id": "6471f75a",
   "metadata": {},
   "outputs": [],
   "source": [
    "y_train = keras.utils.np_utils.to_categorical(y_train)\n",
    "y_test = keras.utils.np_utils.to_categorical(y_test)"
   ]
  },
  {
   "cell_type": "code",
   "execution_count": 5,
   "id": "81928bdc",
   "metadata": {},
   "outputs": [
    {
     "name": "stderr",
     "output_type": "stream",
     "text": [
      "2021-09-30 19:01:00.695668: W tensorflow/stream_executor/platform/default/dso_loader.cc:64] Could not load dynamic library 'libcuda.so.1'; dlerror: libcuda.so.1: cannot open shared object file: No such file or directory\n",
      "2021-09-30 19:01:00.695699: W tensorflow/stream_executor/cuda/cuda_driver.cc:269] failed call to cuInit: UNKNOWN ERROR (303)\n",
      "2021-09-30 19:01:00.695721: I tensorflow/stream_executor/cuda/cuda_diagnostics.cc:156] kernel driver does not appear to be running on this host (jaap-desktop): /proc/driver/nvidia/version does not exist\n",
      "2021-09-30 19:01:00.695902: I tensorflow/core/platform/cpu_feature_guard.cc:142] This TensorFlow binary is optimized with oneAPI Deep Neural Network Library (oneDNN) to use the following CPU instructions in performance-critical operations:  AVX2 FMA\n",
      "To enable them in other operations, rebuild TensorFlow with the appropriate compiler flags.\n"
     ]
    }
   ],
   "source": [
    "#declaring the layers of CNN\n",
    "inpx = Input(shape=inpx)\n",
    "layer1 = Conv2D(32, kernel_size=(3, 3), activation='relu')(inpx)\n",
    "layer2 = Conv2D(64, (3, 3), activation='relu')(layer1)\n",
    "layer3 = MaxPooling2D(pool_size=(3, 3))(layer2)\n",
    "layer4 = Dropout(0.5)(layer3)\n",
    "layer5 = Flatten()(layer4)\n",
    "layer6 = Dense(250, activation='sigmoid')(layer5)\n",
    "layer7 = Dense(10, activation='softmax')(layer6)"
   ]
  },
  {
   "cell_type": "code",
   "execution_count": 6,
   "id": "eda1fc9a",
   "metadata": {},
   "outputs": [
    {
     "name": "stderr",
     "output_type": "stream",
     "text": [
      "2021-09-30 19:01:02.304886: W tensorflow/core/framework/cpu_allocator_impl.cc:80] Allocation of 188160000 exceeds 10% of free system memory.\n",
      "2021-09-30 19:01:03.786316: I tensorflow/compiler/mlir/mlir_graph_optimization_pass.cc:185] None of the MLIR Optimization Passes are enabled (registered 2)\n"
     ]
    },
    {
     "name": "stdout",
     "output_type": "stream",
     "text": [
      "Epoch 1/12\n"
     ]
    },
    {
     "name": "stderr",
     "output_type": "stream",
     "text": [
      "2021-09-30 19:01:05.356909: W tensorflow/core/framework/cpu_allocator_impl.cc:80] Allocation of 43264000 exceeds 10% of free system memory.\n",
      "2021-09-30 19:01:06.084072: W tensorflow/core/framework/cpu_allocator_impl.cc:80] Allocation of 73728000 exceeds 10% of free system memory.\n",
      "2021-09-30 19:01:06.670617: W tensorflow/core/framework/cpu_allocator_impl.cc:80] Allocation of 73728000 exceeds 10% of free system memory.\n",
      "2021-09-30 19:01:06.887111: W tensorflow/core/framework/cpu_allocator_impl.cc:80] Allocation of 43264000 exceeds 10% of free system memory.\n"
     ]
    },
    {
     "name": "stdout",
     "output_type": "stream",
     "text": [
      "120/120 [==============================] - 83s 668ms/step - loss: 2.5352 - accuracy: 0.0987\n",
      "Epoch 2/12\n",
      "120/120 [==============================] - 79s 655ms/step - loss: 2.5084 - accuracy: 0.0987\n",
      "Epoch 3/12\n",
      "120/120 [==============================] - 78s 650ms/step - loss: 2.4823 - accuracy: 0.0987\n",
      "Epoch 4/12\n",
      "120/120 [==============================] - 77s 640ms/step - loss: 2.4574 - accuracy: 0.0987\n",
      "Epoch 5/12\n",
      "120/120 [==============================] - 77s 639ms/step - loss: 2.4335 - accuracy: 0.0987\n",
      "Epoch 6/12\n",
      "120/120 [==============================] - 77s 641ms/step - loss: 2.4110 - accuracy: 0.0987\n",
      "Epoch 7/12\n",
      "120/120 [==============================] - 83s 695ms/step - loss: 2.3897 - accuracy: 0.0987\n",
      "Epoch 8/12\n",
      "120/120 [==============================] - 78s 649ms/step - loss: 2.3697 - accuracy: 0.0987\n",
      "Epoch 9/12\n",
      "120/120 [==============================] - 77s 640ms/step - loss: 2.3510 - accuracy: 0.0987\n",
      "Epoch 10/12\n",
      "120/120 [==============================] - 77s 640ms/step - loss: 2.3335 - accuracy: 0.0987\n",
      "Epoch 11/12\n",
      "120/120 [==============================] - 78s 648ms/step - loss: 2.3170 - accuracy: 0.0987\n",
      "Epoch 12/12\n",
      "120/120 [==============================] - 77s 645ms/step - loss: 2.3017 - accuracy: 0.0987\n"
     ]
    },
    {
     "data": {
      "text/plain": [
       "<keras.callbacks.History at 0x7f1407eee2b0>"
      ]
     },
     "execution_count": 6,
     "metadata": {},
     "output_type": "execute_result"
    }
   ],
   "source": [
    "#creating model of the CNN\n",
    "model = Model([inpx], layer7)\n",
    "model.compile(optimizer=tf.keras.optimizers.Adadelta(),\n",
    "              loss=keras.losses.categorical_crossentropy,\n",
    "              metrics=['accuracy'])\n",
    " \n",
    "    \n",
    "#training the model\n",
    "model.fit(x_train, y_train, epochs=12, batch_size=500)"
   ]
  },
  {
   "cell_type": "code",
   "execution_count": 8,
   "id": "ccbc26e6",
   "metadata": {},
   "outputs": [
    {
     "name": "stdout",
     "output_type": "stream",
     "text": [
      "loss= 2.2926242351531982\n",
      "accuracy= 0.09799999743700027\n"
     ]
    }
   ],
   "source": [
    "#measuring the accurracy and precision\n",
    "score = model.evaluate(x_test, y_test, verbose=0)\n",
    "print('loss=', score[0])\n",
    "print('accuracy=', score[1])"
   ]
  },
  {
   "cell_type": "code",
   "execution_count": null,
   "id": "134e030c",
   "metadata": {},
   "outputs": [],
   "source": []
  }
 ],
 "metadata": {
  "kernelspec": {
   "display_name": "Python 3 (ipykernel)",
   "language": "python",
   "name": "python3"
  },
  "language_info": {
   "codemirror_mode": {
    "name": "ipython",
    "version": 3
   },
   "file_extension": ".py",
   "mimetype": "text/x-python",
   "name": "python",
   "nbconvert_exporter": "python",
   "pygments_lexer": "ipython3",
   "version": "3.8.10"
  }
 },
 "nbformat": 4,
 "nbformat_minor": 5
}
